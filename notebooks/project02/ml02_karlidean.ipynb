{
 "cells": [
  {
   "cell_type": "markdown",
   "id": "56f5bfef",
   "metadata": {},
   "source": [
    "# Project 2: Data - Inspect, Explore, Split, & Engage"
   ]
  },
  {
   "cell_type": "markdown",
   "id": "1cd32fe2",
   "metadata": {},
   "source": [
    "**Author:** Karli Dean\\\n",
    "**Date:** October 31, 2025\\\n",
    "**A Brief Introduction:**"
   ]
  },
  {
   "cell_type": "markdown",
   "id": "a2060484",
   "metadata": {},
   "source": [
    "## Section 1 - My Imports and Data Inspections"
   ]
  },
  {
   "cell_type": "markdown",
   "id": "9136658f",
   "metadata": {},
   "source": [
    "### Section 1 Reflection"
   ]
  },
  {
   "cell_type": "markdown",
   "id": "c5a83217",
   "metadata": {},
   "source": [
    "## Section 2 - Exploring and Preparing the Data"
   ]
  },
  {
   "cell_type": "markdown",
   "id": "14300e37",
   "metadata": {},
   "source": [
    "### Section 2.1 - Exploring the Patterns and Distributions of Data"
   ]
  },
  {
   "cell_type": "markdown",
   "id": "3c39c465",
   "metadata": {},
   "source": [
    "### Section 2.1 Reflection"
   ]
  },
  {
   "cell_type": "markdown",
   "id": "51d10ec8",
   "metadata": {},
   "source": [
    "### Section 2.2 - Handling Mssing Values and Cleaning Data"
   ]
  },
  {
   "cell_type": "markdown",
   "id": "c2d19733",
   "metadata": {},
   "source": [
    "### Section 2.3 - Feature Engineering"
   ]
  },
  {
   "cell_type": "markdown",
   "id": "b65f0ca0",
   "metadata": {},
   "source": [
    "### Section 2.3 Reflection"
   ]
  },
  {
   "cell_type": "markdown",
   "id": "ced09423",
   "metadata": {},
   "source": [
    "## Section 3 - Selecting Features and Justifying Them"
   ]
  },
  {
   "cell_type": "markdown",
   "id": "fe0b6b4b",
   "metadata": {},
   "source": [
    "### Section 3.1 - Choosing Features and a Target"
   ]
  },
  {
   "cell_type": "markdown",
   "id": "3bf4e768",
   "metadata": {},
   "source": [
    "### Section 3.2 - Defining X and y variables"
   ]
  },
  {
   "cell_type": "markdown",
   "id": "795929cd",
   "metadata": {},
   "source": [
    "### Section 3 Reflection"
   ]
  },
  {
   "cell_type": "markdown",
   "id": "e454a3fe",
   "metadata": {},
   "source": [
    "## Section 4 - Splitting the Data"
   ]
  },
  {
   "cell_type": "markdown",
   "id": "45f47302",
   "metadata": {},
   "source": [
    "### Section 4.1 - Basic Train/Test Split"
   ]
  },
  {
   "cell_type": "markdown",
   "id": "c07a7e86",
   "metadata": {},
   "source": [
    "### Section 4.2 - Stratified Train/Test Split"
   ]
  },
  {
   "cell_type": "markdown",
   "id": "580b76e8",
   "metadata": {},
   "source": [
    "### Section 4.3 - Comparing Results"
   ]
  },
  {
   "cell_type": "markdown",
   "id": "368db843",
   "metadata": {},
   "source": [
    "### Section 4 Reflection"
   ]
  }
 ],
 "metadata": {
  "kernelspec": {
   "display_name": "applied-ml-karlidean (3.12.11)",
   "language": "python",
   "name": "python3"
  },
  "language_info": {
   "codemirror_mode": {
    "name": "ipython",
    "version": 3
   },
   "file_extension": ".py",
   "mimetype": "text/x-python",
   "name": "python",
   "nbconvert_exporter": "python",
   "pygments_lexer": "ipython3",
   "version": "3.12.11"
  }
 },
 "nbformat": 4,
 "nbformat_minor": 5
}
